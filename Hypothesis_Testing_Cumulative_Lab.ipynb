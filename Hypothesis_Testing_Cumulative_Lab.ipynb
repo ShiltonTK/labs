{
  "cells": [
    {
      "cell_type": "markdown",
      "metadata": {
        "id": "ycJ9F57pc9w5"
      },
      "source": [
        "# Website A/B Testing - Lab\n",
        "\n",
        "## Introduction\n",
        "\n",
        "In this lab, you'll get another chance to practice your skills at conducting a full A/B test analysis. It will also be a chance to practice your data exploration and processing skills! The scenario you'll be investigating is data collected from the homepage of a music app page for audacity.\n",
        "\n",
        "## Objectives\n",
        "\n",
        "You will be able to:\n",
        "* Analyze the data from a website A/B test to draw relevant conclusions\n",
        "* Explore and analyze web action data"
      ]
    },
    {
      "cell_type": "markdown",
      "metadata": {
        "id": "i7sDN4Fxc9w7"
      },
      "source": [
        "## Exploratory Analysis\n",
        "\n",
        "Start by loading in the dataset stored in the file 'homepage_actions.csv'. Then conduct an exploratory analysis to get familiar with the data."
      ]
    },
    {
      "cell_type": "markdown",
      "metadata": {
        "id": "FNe0l-Iwc9w8"
      },
      "source": [
        "> Hints:\n",
        "    * Start investigating the id column:\n",
        "        * How many viewers also clicked?\n",
        "        * Are there any anomalies with the data; did anyone click who didn't view?\n",
        "        * Is there any overlap between the control and experiment groups?\n",
        "            * If so, how do you plan to account for this in your experimental design?"
      ]
    },
    {
      "cell_type": "code",
      "execution_count": 1,
      "metadata": {
        "id": "wM7OdaKCc9w9"
      },
      "outputs": [],
      "source": [
        "#Import the libraries needed\n",
        "import pandas as pd\n",
        "import numpy as np\n",
        "import matplotlib.pyplot as plt\n",
        "import seaborn as sns\n",
        "import scipy.stats as stats\n",
        "import math"
      ]
    },
    {
      "cell_type": "code",
      "source": [
        "#loading the csv file\n",
        "df = pd.read_csv(\"homepage_actions.csv\")"
      ],
      "metadata": {
        "id": "wB3PGYsqe3cr"
      },
      "execution_count": 2,
      "outputs": []
    },
    {
      "cell_type": "code",
      "source": [
        "df.head()"
      ],
      "metadata": {
        "colab": {
          "base_uri": "https://localhost:8080/",
          "height": 206
        },
        "id": "Yi87JiS6fCqg",
        "outputId": "b65947e4-9555-48c7-b6b9-a5096f2f7611"
      },
      "execution_count": 3,
      "outputs": [
        {
          "output_type": "execute_result",
          "data": {
            "text/plain": [
              "                    timestamp      id       group action\n",
              "0  2016-09-24 17:42:27.839496  804196  experiment   view\n",
              "1  2016-09-24 19:19:03.542569  434745  experiment   view\n",
              "2  2016-09-24 19:36:00.944135  507599  experiment   view\n",
              "3  2016-09-24 19:59:02.646620  671993     control   view\n",
              "4  2016-09-24 20:26:14.466886  536734  experiment   view"
            ],
            "text/html": [
              "\n",
              "  <div id=\"df-e27d95d7-458a-4cb1-bfe4-049157b6be47\" class=\"colab-df-container\">\n",
              "    <div>\n",
              "<style scoped>\n",
              "    .dataframe tbody tr th:only-of-type {\n",
              "        vertical-align: middle;\n",
              "    }\n",
              "\n",
              "    .dataframe tbody tr th {\n",
              "        vertical-align: top;\n",
              "    }\n",
              "\n",
              "    .dataframe thead th {\n",
              "        text-align: right;\n",
              "    }\n",
              "</style>\n",
              "<table border=\"1\" class=\"dataframe\">\n",
              "  <thead>\n",
              "    <tr style=\"text-align: right;\">\n",
              "      <th></th>\n",
              "      <th>timestamp</th>\n",
              "      <th>id</th>\n",
              "      <th>group</th>\n",
              "      <th>action</th>\n",
              "    </tr>\n",
              "  </thead>\n",
              "  <tbody>\n",
              "    <tr>\n",
              "      <th>0</th>\n",
              "      <td>2016-09-24 17:42:27.839496</td>\n",
              "      <td>804196</td>\n",
              "      <td>experiment</td>\n",
              "      <td>view</td>\n",
              "    </tr>\n",
              "    <tr>\n",
              "      <th>1</th>\n",
              "      <td>2016-09-24 19:19:03.542569</td>\n",
              "      <td>434745</td>\n",
              "      <td>experiment</td>\n",
              "      <td>view</td>\n",
              "    </tr>\n",
              "    <tr>\n",
              "      <th>2</th>\n",
              "      <td>2016-09-24 19:36:00.944135</td>\n",
              "      <td>507599</td>\n",
              "      <td>experiment</td>\n",
              "      <td>view</td>\n",
              "    </tr>\n",
              "    <tr>\n",
              "      <th>3</th>\n",
              "      <td>2016-09-24 19:59:02.646620</td>\n",
              "      <td>671993</td>\n",
              "      <td>control</td>\n",
              "      <td>view</td>\n",
              "    </tr>\n",
              "    <tr>\n",
              "      <th>4</th>\n",
              "      <td>2016-09-24 20:26:14.466886</td>\n",
              "      <td>536734</td>\n",
              "      <td>experiment</td>\n",
              "      <td>view</td>\n",
              "    </tr>\n",
              "  </tbody>\n",
              "</table>\n",
              "</div>\n",
              "    <div class=\"colab-df-buttons\">\n",
              "\n",
              "  <div class=\"colab-df-container\">\n",
              "    <button class=\"colab-df-convert\" onclick=\"convertToInteractive('df-e27d95d7-458a-4cb1-bfe4-049157b6be47')\"\n",
              "            title=\"Convert this dataframe to an interactive table.\"\n",
              "            style=\"display:none;\">\n",
              "\n",
              "  <svg xmlns=\"http://www.w3.org/2000/svg\" height=\"24px\" viewBox=\"0 -960 960 960\">\n",
              "    <path d=\"M120-120v-720h720v720H120Zm60-500h600v-160H180v160Zm220 220h160v-160H400v160Zm0 220h160v-160H400v160ZM180-400h160v-160H180v160Zm440 0h160v-160H620v160ZM180-180h160v-160H180v160Zm440 0h160v-160H620v160Z\"/>\n",
              "  </svg>\n",
              "    </button>\n",
              "\n",
              "  <style>\n",
              "    .colab-df-container {\n",
              "      display:flex;\n",
              "      gap: 12px;\n",
              "    }\n",
              "\n",
              "    .colab-df-convert {\n",
              "      background-color: #E8F0FE;\n",
              "      border: none;\n",
              "      border-radius: 50%;\n",
              "      cursor: pointer;\n",
              "      display: none;\n",
              "      fill: #1967D2;\n",
              "      height: 32px;\n",
              "      padding: 0 0 0 0;\n",
              "      width: 32px;\n",
              "    }\n",
              "\n",
              "    .colab-df-convert:hover {\n",
              "      background-color: #E2EBFA;\n",
              "      box-shadow: 0px 1px 2px rgba(60, 64, 67, 0.3), 0px 1px 3px 1px rgba(60, 64, 67, 0.15);\n",
              "      fill: #174EA6;\n",
              "    }\n",
              "\n",
              "    .colab-df-buttons div {\n",
              "      margin-bottom: 4px;\n",
              "    }\n",
              "\n",
              "    [theme=dark] .colab-df-convert {\n",
              "      background-color: #3B4455;\n",
              "      fill: #D2E3FC;\n",
              "    }\n",
              "\n",
              "    [theme=dark] .colab-df-convert:hover {\n",
              "      background-color: #434B5C;\n",
              "      box-shadow: 0px 1px 3px 1px rgba(0, 0, 0, 0.15);\n",
              "      filter: drop-shadow(0px 1px 2px rgba(0, 0, 0, 0.3));\n",
              "      fill: #FFFFFF;\n",
              "    }\n",
              "  </style>\n",
              "\n",
              "    <script>\n",
              "      const buttonEl =\n",
              "        document.querySelector('#df-e27d95d7-458a-4cb1-bfe4-049157b6be47 button.colab-df-convert');\n",
              "      buttonEl.style.display =\n",
              "        google.colab.kernel.accessAllowed ? 'block' : 'none';\n",
              "\n",
              "      async function convertToInteractive(key) {\n",
              "        const element = document.querySelector('#df-e27d95d7-458a-4cb1-bfe4-049157b6be47');\n",
              "        const dataTable =\n",
              "          await google.colab.kernel.invokeFunction('convertToInteractive',\n",
              "                                                    [key], {});\n",
              "        if (!dataTable) return;\n",
              "\n",
              "        const docLinkHtml = 'Like what you see? Visit the ' +\n",
              "          '<a target=\"_blank\" href=https://colab.research.google.com/notebooks/data_table.ipynb>data table notebook</a>'\n",
              "          + ' to learn more about interactive tables.';\n",
              "        element.innerHTML = '';\n",
              "        dataTable['output_type'] = 'display_data';\n",
              "        await google.colab.output.renderOutput(dataTable, element);\n",
              "        const docLink = document.createElement('div');\n",
              "        docLink.innerHTML = docLinkHtml;\n",
              "        element.appendChild(docLink);\n",
              "      }\n",
              "    </script>\n",
              "  </div>\n",
              "\n",
              "\n",
              "<div id=\"df-cf60105f-7161-425d-bea4-e5c23e3eb971\">\n",
              "  <button class=\"colab-df-quickchart\" onclick=\"quickchart('df-cf60105f-7161-425d-bea4-e5c23e3eb971')\"\n",
              "            title=\"Suggest charts\"\n",
              "            style=\"display:none;\">\n",
              "\n",
              "<svg xmlns=\"http://www.w3.org/2000/svg\" height=\"24px\"viewBox=\"0 0 24 24\"\n",
              "     width=\"24px\">\n",
              "    <g>\n",
              "        <path d=\"M19 3H5c-1.1 0-2 .9-2 2v14c0 1.1.9 2 2 2h14c1.1 0 2-.9 2-2V5c0-1.1-.9-2-2-2zM9 17H7v-7h2v7zm4 0h-2V7h2v10zm4 0h-2v-4h2v4z\"/>\n",
              "    </g>\n",
              "</svg>\n",
              "  </button>\n",
              "\n",
              "<style>\n",
              "  .colab-df-quickchart {\n",
              "      --bg-color: #E8F0FE;\n",
              "      --fill-color: #1967D2;\n",
              "      --hover-bg-color: #E2EBFA;\n",
              "      --hover-fill-color: #174EA6;\n",
              "      --disabled-fill-color: #AAA;\n",
              "      --disabled-bg-color: #DDD;\n",
              "  }\n",
              "\n",
              "  [theme=dark] .colab-df-quickchart {\n",
              "      --bg-color: #3B4455;\n",
              "      --fill-color: #D2E3FC;\n",
              "      --hover-bg-color: #434B5C;\n",
              "      --hover-fill-color: #FFFFFF;\n",
              "      --disabled-bg-color: #3B4455;\n",
              "      --disabled-fill-color: #666;\n",
              "  }\n",
              "\n",
              "  .colab-df-quickchart {\n",
              "    background-color: var(--bg-color);\n",
              "    border: none;\n",
              "    border-radius: 50%;\n",
              "    cursor: pointer;\n",
              "    display: none;\n",
              "    fill: var(--fill-color);\n",
              "    height: 32px;\n",
              "    padding: 0;\n",
              "    width: 32px;\n",
              "  }\n",
              "\n",
              "  .colab-df-quickchart:hover {\n",
              "    background-color: var(--hover-bg-color);\n",
              "    box-shadow: 0 1px 2px rgba(60, 64, 67, 0.3), 0 1px 3px 1px rgba(60, 64, 67, 0.15);\n",
              "    fill: var(--button-hover-fill-color);\n",
              "  }\n",
              "\n",
              "  .colab-df-quickchart-complete:disabled,\n",
              "  .colab-df-quickchart-complete:disabled:hover {\n",
              "    background-color: var(--disabled-bg-color);\n",
              "    fill: var(--disabled-fill-color);\n",
              "    box-shadow: none;\n",
              "  }\n",
              "\n",
              "  .colab-df-spinner {\n",
              "    border: 2px solid var(--fill-color);\n",
              "    border-color: transparent;\n",
              "    border-bottom-color: var(--fill-color);\n",
              "    animation:\n",
              "      spin 1s steps(1) infinite;\n",
              "  }\n",
              "\n",
              "  @keyframes spin {\n",
              "    0% {\n",
              "      border-color: transparent;\n",
              "      border-bottom-color: var(--fill-color);\n",
              "      border-left-color: var(--fill-color);\n",
              "    }\n",
              "    20% {\n",
              "      border-color: transparent;\n",
              "      border-left-color: var(--fill-color);\n",
              "      border-top-color: var(--fill-color);\n",
              "    }\n",
              "    30% {\n",
              "      border-color: transparent;\n",
              "      border-left-color: var(--fill-color);\n",
              "      border-top-color: var(--fill-color);\n",
              "      border-right-color: var(--fill-color);\n",
              "    }\n",
              "    40% {\n",
              "      border-color: transparent;\n",
              "      border-right-color: var(--fill-color);\n",
              "      border-top-color: var(--fill-color);\n",
              "    }\n",
              "    60% {\n",
              "      border-color: transparent;\n",
              "      border-right-color: var(--fill-color);\n",
              "    }\n",
              "    80% {\n",
              "      border-color: transparent;\n",
              "      border-right-color: var(--fill-color);\n",
              "      border-bottom-color: var(--fill-color);\n",
              "    }\n",
              "    90% {\n",
              "      border-color: transparent;\n",
              "      border-bottom-color: var(--fill-color);\n",
              "    }\n",
              "  }\n",
              "</style>\n",
              "\n",
              "  <script>\n",
              "    async function quickchart(key) {\n",
              "      const quickchartButtonEl =\n",
              "        document.querySelector('#' + key + ' button');\n",
              "      quickchartButtonEl.disabled = true;  // To prevent multiple clicks.\n",
              "      quickchartButtonEl.classList.add('colab-df-spinner');\n",
              "      try {\n",
              "        const charts = await google.colab.kernel.invokeFunction(\n",
              "            'suggestCharts', [key], {});\n",
              "      } catch (error) {\n",
              "        console.error('Error during call to suggestCharts:', error);\n",
              "      }\n",
              "      quickchartButtonEl.classList.remove('colab-df-spinner');\n",
              "      quickchartButtonEl.classList.add('colab-df-quickchart-complete');\n",
              "    }\n",
              "    (() => {\n",
              "      let quickchartButtonEl =\n",
              "        document.querySelector('#df-cf60105f-7161-425d-bea4-e5c23e3eb971 button');\n",
              "      quickchartButtonEl.style.display =\n",
              "        google.colab.kernel.accessAllowed ? 'block' : 'none';\n",
              "    })();\n",
              "  </script>\n",
              "</div>\n",
              "    </div>\n",
              "  </div>\n"
            ],
            "application/vnd.google.colaboratory.intrinsic+json": {
              "type": "dataframe",
              "variable_name": "df",
              "summary": "{\n  \"name\": \"df\",\n  \"rows\": 8188,\n  \"fields\": [\n    {\n      \"column\": \"timestamp\",\n      \"properties\": {\n        \"dtype\": \"object\",\n        \"num_unique_values\": 8188,\n        \"samples\": [\n          \"2016-10-24 16:49:41.897617\",\n          \"2016-11-24 09:55:54.875842\",\n          \"2016-12-04 02:04:39.705328\"\n        ],\n        \"semantic_type\": \"\",\n        \"description\": \"\"\n      }\n    },\n    {\n      \"column\": \"id\",\n      \"properties\": {\n        \"dtype\": \"number\",\n        \"std\": 219085,\n        \"min\": 182988,\n        \"max\": 937217,\n        \"num_unique_values\": 6328,\n        \"samples\": [\n          661254,\n          234592,\n          738838\n        ],\n        \"semantic_type\": \"\",\n        \"description\": \"\"\n      }\n    },\n    {\n      \"column\": \"group\",\n      \"properties\": {\n        \"dtype\": \"category\",\n        \"num_unique_values\": 2,\n        \"samples\": [\n          \"control\",\n          \"experiment\"\n        ],\n        \"semantic_type\": \"\",\n        \"description\": \"\"\n      }\n    },\n    {\n      \"column\": \"action\",\n      \"properties\": {\n        \"dtype\": \"category\",\n        \"num_unique_values\": 2,\n        \"samples\": [\n          \"click\",\n          \"view\"\n        ],\n        \"semantic_type\": \"\",\n        \"description\": \"\"\n      }\n    }\n  ]\n}"
            }
          },
          "metadata": {},
          "execution_count": 3
        }
      ]
    },
    {
      "cell_type": "code",
      "source": [
        "# Count of actions by group\n",
        "action_group_count = df.groupby('group')['action'].value_counts().unstack()\n",
        "print(\"\\nCount of actions by group:\\n\", action_group_count)"
      ],
      "metadata": {
        "colab": {
          "base_uri": "https://localhost:8080/"
        },
        "id": "VOXXuuddfHvA",
        "outputId": "ddc16bb3-2dd0-44f1-9993-632c554efeb9"
      },
      "execution_count": 4,
      "outputs": [
        {
          "output_type": "stream",
          "name": "stdout",
          "text": [
            "\n",
            "Count of actions by group:\n",
            " action      click  view\n",
            "group                  \n",
            "control       932  3332\n",
            "experiment    928  2996\n"
          ]
        }
      ]
    },
    {
      "cell_type": "markdown",
      "metadata": {
        "id": "X9lYmugfc9w-"
      },
      "source": [
        "## Conduct a Statistical Test\n",
        "\n",
        "Conduct a statistical test to determine whether the experimental homepage was more effective than that of the control group."
      ]
    },
    {
      "cell_type": "code",
      "execution_count": 5,
      "metadata": {
        "colab": {
          "base_uri": "https://localhost:8080/"
        },
        "id": "F_wzoJZNc9w_",
        "outputId": "31f479d0-87e5-43ed-a48b-2a5effc026ce"
      },
      "outputs": [
        {
          "output_type": "stream",
          "name": "stdout",
          "text": [
            "There is no significant difference between the experimental and control groups in terms of effectiveness.\n"
          ]
        }
      ],
      "source": [
        "# Filter DataFrame to count 'click' occurrences in each group\n",
        "clicks_experiment = df[(df['group'] == 'experiment') & (df['action'] == 'click')].shape[0]\n",
        "views_experiment = df[df['group'] == 'experiment'].shape[0]\n",
        "\n",
        "clicks_control = df[(df['group'] == 'control') & (df['action'] == 'click')].shape[0]\n",
        "views_control = df[df['group'] == 'control'].shape[0]\n",
        "\n",
        "# Calculate click-through rate (CTR) for each group\n",
        "ctr_experiment = clicks_experiment / views_experiment\n",
        "ctr_control = clicks_control / views_control\n",
        "\n",
        "# Perform two-sample t-test\n",
        "_, p_value = stats.ttest_ind(df[df['group'] == 'experiment']['action'] == 'click', df[df['group'] == 'control']['action'] == 'click')\n",
        "\n",
        "# Check if the p-value is significant (e.g., less than 0.05)\n",
        "if p_value < 0.05:\n",
        "    print(\"The experimental homepage was more effective than the control group (statistically significant).\")\n",
        "else:\n",
        "    print(\"There is no significant difference between the experimental and control groups in terms of effectiveness.\")"
      ]
    },
    {
      "cell_type": "markdown",
      "metadata": {
        "id": "Q-yCkA6Cc9w_"
      },
      "source": [
        "## Verifying Results\n",
        "\n",
        "One sensible formulation of the data to answer the hypothesis test above would be to create a binary variable representing each individual in the experiment and control group. This binary variable would represent whether or not that individual clicked on the homepage; 1 for they did and 0 if they did not.\n",
        "\n",
        "The variance for the number of successes in a sample of a binomial variable with n observations is given by:\n",
        "\n",
        "## $n\\bullet p (1-p)$\n",
        "\n",
        "Given this, perform 3 steps to verify the results of your statistical test:\n",
        "1. Calculate the expected number of clicks for the experiment group, if it had the same click-through rate as that of the control group.\n",
        "2. Calculate the number of standard deviations that the actual number of clicks was from this estimate.\n",
        "3. Finally, calculate a p-value using the normal distribution based on this z-score."
      ]
    },
    {
      "cell_type": "markdown",
      "metadata": {
        "id": "Fetmnymdc9w_"
      },
      "source": [
        "### Step 1:\n",
        "Calculate the expected number of clicks for the experiment group, if it had the same click-through rate as that of the control group."
      ]
    },
    {
      "cell_type": "code",
      "execution_count": 6,
      "metadata": {
        "colab": {
          "base_uri": "https://localhost:8080/"
        },
        "id": "GBsdc4Lac9xA",
        "outputId": "20f5c0e7-1e80-45e4-db3b-5b4b4b09ded0"
      },
      "outputs": [
        {
          "output_type": "stream",
          "name": "stdout",
          "text": [
            "Expected number of clicks for the experiment group (if CTR was the same as control group): 857.6848030018762\n"
          ]
        }
      ],
      "source": [
        "# Calculate the click-through rate (CTR) for the control group\n",
        "clicks_control = df[(df['group'] == 'control') & (df['action'] == 'click')].shape[0]\n",
        "views_control = df[df['group'] == 'control'].shape[0]\n",
        "ctr_control = clicks_control / views_control\n",
        "\n",
        "# Calculate the number of views in the experiment group\n",
        "views_experiment = df[df['group'] == 'experiment'].shape[0]\n",
        "\n",
        "# Calculate the expected number of clicks for the experiment group\n",
        "expected_clicks_experiment = ctr_control * views_experiment\n",
        "\n",
        "print(\"Expected number of clicks for the experiment group (if CTR was the same as control group):\", expected_clicks_experiment)"
      ]
    },
    {
      "cell_type": "markdown",
      "metadata": {
        "id": "RS1nHccoc9xA"
      },
      "source": [
        "### Step 2:\n",
        "Calculate the number of standard deviations that the actual number of clicks was from this estimate."
      ]
    },
    {
      "cell_type": "code",
      "execution_count": 7,
      "metadata": {
        "colab": {
          "base_uri": "https://localhost:8080/"
        },
        "id": "6nkaxLwrc9xB",
        "outputId": "c34e17f7-97dc-447b-c35c-b497fcc6756c"
      },
      "outputs": [
        {
          "output_type": "stream",
          "name": "stdout",
          "text": [
            "Standard deviation: 25.888551746650283\n"
          ]
        }
      ],
      "source": [
        "# Calculate the standard deviation of the binomial distribution\n",
        "std_dev = math.sqrt(views_experiment * ctr_control * (1 - ctr_control))\n",
        "\n",
        "print(\"Standard deviation:\", std_dev)"
      ]
    },
    {
      "cell_type": "markdown",
      "metadata": {
        "id": "gE_9kvosc9xC"
      },
      "source": [
        "### Step 3:\n",
        "Finally, calculate a p-value using the normal distribution based on this z-score."
      ]
    },
    {
      "cell_type": "code",
      "execution_count": 9,
      "metadata": {
        "colab": {
          "base_uri": "https://localhost:8080/"
        },
        "id": "EzNx2X8Sc9xC",
        "outputId": "a25f8e43-3bdd-4e75-c9c9-54014cca083b"
      },
      "outputs": [
        {
          "output_type": "stream",
          "name": "stdout",
          "text": [
            "Z-score: 2.71607302278784\n",
            "P-value based on the normal distribution: 0.0033030672759265522\n"
          ]
        }
      ],
      "source": [
        "# Calculate the actual number of clicks for the experiment group\n",
        "clicks_experiment = df[(df['group'] == 'experiment') & (df['action'] == 'click')].shape[0]\n",
        "\n",
        "# Calculate the z-score\n",
        "z_score = (clicks_experiment - expected_clicks_experiment) / std_dev\n",
        "\n",
        "# Calculate the p-value using the normal distribution\n",
        "p_value = 1 - stats.norm.cdf(z_score)\n",
        "\n",
        "print(\"Z-score:\", z_score)\n",
        "print(\"P-value based on the normal distribution:\", p_value)"
      ]
    },
    {
      "cell_type": "markdown",
      "metadata": {
        "id": "2jIkRpIJc9xD"
      },
      "source": [
        "### Analysis:\n",
        "\n",
        "Does this result roughly match that of the previous statistical test?\n",
        "\n",
        "> Comment:  Both analyses indicate a significant difference in click-through rates, with the experimental homepage showing higher effectiveness compared to the control group."
      ]
    },
    {
      "cell_type": "markdown",
      "metadata": {
        "id": "JzpHr9RAc9xD"
      },
      "source": [
        "## Summary\n",
        "\n",
        "In this lab, you continued to get more practice designing and conducting AB tests. This required additional work preprocessing and formulating the initial problem in a suitable manner. Additionally, you also saw how to verify results, strengthening your knowledge of binomial variables, and reviewing initial statistical concepts of the central limit theorem, standard deviation, z-scores, and their accompanying p-values."
      ]
    }
  ],
  "metadata": {
    "kernelspec": {
      "display_name": "Python 3",
      "language": "python",
      "name": "python3"
    },
    "language_info": {
      "codemirror_mode": {
        "name": "ipython",
        "version": 3
      },
      "file_extension": ".py",
      "mimetype": "text/x-python",
      "name": "python",
      "nbconvert_exporter": "python",
      "pygments_lexer": "ipython3",
      "version": "3.6.6"
    },
    "colab": {
      "provenance": []
    }
  },
  "nbformat": 4,
  "nbformat_minor": 0
}